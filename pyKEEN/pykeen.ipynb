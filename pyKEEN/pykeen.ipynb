{
 "cells": [
  {
   "cell_type": "code",
   "execution_count": 93,
   "metadata": {},
   "outputs": [],
   "source": [
    "import os\n",
    "\n",
    "import numpy as np\n",
    "import pykeen\n",
    "from matplotlib import pyplot as plt\n",
    "\n",
    "from pykeen.pipeline import pipeline\n",
    "from pykeen.triples import TriplesFactory\n",
    "\n",
    "from numbers import Complex\n",
    "from pykeen.triples import TriplesFactory\n",
    "from pykeen.pipeline import pipeline\n",
    "\n",
    "from pykeen.models import TransE\n",
    "from torch.optim import Adam\n",
    "from pykeen.training import SLCWATrainingLoop\n",
    "from pykeen.evaluation import RankBasedEvaluator\n",
    "\n",
    "\n",
    "%matplotlib inline\n",
    "%config InlineBackend.figure_format = 'png'"
   ]
  },
  {
   "cell_type": "code",
   "execution_count": 2,
   "metadata": {},
   "outputs": [],
   "source": [
    "def csv_download_link(df, csv_file_name, delete_prompt=True):\n",
    "    \"\"\"Display a download link to load a data frame as csv from within a Jupyter notebook\"\"\"\n",
    "    df.to_csv(csv_file_name, index=False)\n",
    "    from IPython.display import FileLink\n",
    "    display(FileLink(csv_file_name))\n",
    "    if delete_prompt:\n",
    "        a = input('Press enter to delete the file after you have downloaded it.')\n",
    "        import os\n",
    "        os.remove(csv_file_name)"
   ]
  },
  {
   "cell_type": "code",
   "execution_count": 140,
   "metadata": {},
   "outputs": [],
   "source": [
    "import pandas as pd\n",
    "from os.path import exists\n",
    "\n",
    "from pykeen.triples import TriplesFactory\n",
    "from pykeen.pipeline import pipeline\n",
    "from pykeen.datasets.nations import NATIONS_TRAIN_PATH\n",
    "# dataset = \"/eos/jeodpp/home/users/chenina/data/works1k.ttl.nt\"\n",
    "base_dir = \"/home/nasredine/dev/python/graph_embedding/pyKEEN/data/\"\n",
    "dataset = base_dir + \"graph.nt.csv\"\n",
    "\n"
   ]
  },
  {
   "cell_type": "code",
   "execution_count": 130,
   "metadata": {},
   "outputs": [
    {
     "data": {
      "text/plain": [
       "pandas.core.frame.DataFrame"
      ]
     },
     "execution_count": 130,
     "metadata": {},
     "output_type": "execute_result"
    }
   ],
   "source": [
    "# cleaning data\n",
    "# split one column row to three columns\n",
    "# df = pd.read_csv(dataset, sep='\\t', header=None, names=['s', 'p', 'o'])\n",
    "# display 10 row that have s start with \"cellar:\"\n",
    "# dx = df[df['s'].str.startswith('cellar:')]\n",
    "# split dx to three columns using 5 spaces as separator\n",
    "# options\n",
    "# pd.options.display.max_colwidth = 200\n",
    "# display full content of fitst row\n",
    "# dx.iloc[0]\n",
    "# split one column row to three columns\n",
    "# expand first column to three columns\n",
    "# dy = dx.s.str.split('     ', expand=True)\n",
    "# dy.to_csv(base_dir + \"graph0_cleaned.csv\", index=False, header=False, sep='\\t')"
   ]
  },
  {
   "cell_type": "code",
   "execution_count": 141,
   "metadata": {},
   "outputs": [],
   "source": [
    "tf = TriplesFactory.from_path(dataset)\n"
   ]
  },
  {
   "cell_type": "code",
   "execution_count": 142,
   "metadata": {},
   "outputs": [
    {
     "name": "stderr",
     "output_type": "stream",
     "text": [
      "WARNING:pykeen.utils:using automatically assigned random_state=1750156462\n",
      "INFO:pykeen.triples.splitting:done splitting triples to groups of sizes [129210, 47160]\n",
      "INFO:pykeen.triples.triples_factory:Stored TriplesFactory(num_entities=60188, num_relations=8, num_triples=188640, inverse_triples=False, path=\"/home/nasredine/dev/python/graph_embedding/pyKEEN/data/graph.nt.csv\") to file:///home/nasredine/dev/python/graph_embedding/pyKEEN/data/home/nasredine/dev/python/graph_embedding/pyKEEN/data/graph.nt.csv_training.pt\n",
      "INFO:pykeen.triples.triples_factory:Stored TriplesFactory(num_entities=60188, num_relations=8, num_triples=47160, inverse_triples=False, path=\"/home/nasredine/dev/python/graph_embedding/pyKEEN/data/graph.nt.csv\") to file:///home/nasredine/dev/python/graph_embedding/pyKEEN/data/home/nasredine/dev/python/graph_embedding/pyKEEN/data/graph.nt.csv_testing.pt\n"
     ]
    }
   ],
   "source": [
    "training_path = base_dir +dataset+ \"_training.pt\"\n",
    "testing_path = base_dir + dataset+ \"_testing.pt\"\n",
    "\n",
    "if not exists(training_path) or not exists(testing_path):\n",
    "    training  , testing = tf.split()\n",
    "    training.to_path_binary(training_path)\n",
    "    testing.to_path_binary(testing_path)\n",
    "else :\n",
    "    training = TriplesFactory.from_path_binary(training_path)\n",
    "    testing = TriplesFactory.from_path_binary(testing_path)"
   ]
  },
  {
   "cell_type": "code",
   "execution_count": 44,
   "metadata": {},
   "outputs": [
    {
     "data": {
      "text/plain": [
       "pykeen.triples.triples_factory.TriplesFactory"
      ]
     },
     "execution_count": 44,
     "metadata": {},
     "output_type": "execute_result"
    }
   ],
   "source": []
  },
  {
   "cell_type": "code",
   "execution_count": 143,
   "metadata": {},
   "outputs": [],
   "source": [
    "def train():\n",
    "    \n",
    "    result = pipeline(\n",
    "        training=training,\n",
    "        testing=testing,\n",
    "        model='TransE',\n",
    "        epochs=5,  # 228 short epochs for testing - you should go higher\n",
    "    )\n",
    "    model = result.model\n",
    "    result.save_to_directory('data/test_unstratified_transe')"
   ]
  },
  {
   "cell_type": "code",
   "execution_count": 40,
   "metadata": {},
   "outputs": [
    {
     "data": {
      "text/plain": [
       "bool"
      ]
     },
     "execution_count": 40,
     "metadata": {},
     "output_type": "execute_result"
    }
   ],
   "source": [
    "# result.plot()\n"
   ]
  },
  {
   "cell_type": "code",
   "execution_count": 145,
   "metadata": {},
   "outputs": [
    {
     "name": "stderr",
     "output_type": "stream",
     "text": [
      "WARNING:pykeen.pipeline.api:No random seed is specified. Setting to 807087419.\n",
      "WARNING:pykeen.utils:No cuda devices were available. The model runs on CPU\n",
      "INFO:pykeen.pipeline.api:Using device: None\n",
      "/home/nasredine/.local/lib/python3.10/site-packages/pykeen/nn/representation.py:372: UserWarning: Directly use Embedding.max_id instead of num_embeddings.\n",
      "  warnings.warn(f\"Directly use {self.__class__.__name__}.max_id instead of num_embeddings.\")\n"
     ]
    },
    {
     "data": {
      "application/vnd.jupyter.widget-view+json": {
       "model_id": "e87191b1d11345929dcc14363b66fa61",
       "version_major": 2,
       "version_minor": 0
      },
      "text/plain": [
       "Training epochs on cpu:   0%|          | 0/5 [00:00<?, ?epoch/s]"
      ]
     },
     "metadata": {},
     "output_type": "display_data"
    },
    {
     "data": {
      "application/vnd.jupyter.widget-view+json": {
       "model_id": "73a9751d808440f0ae9a413017a3e03c",
       "version_major": 2,
       "version_minor": 0
      },
      "text/plain": [
       "Training batches on cpu:   0%|          | 0/737 [00:00<?, ?batch/s]"
      ]
     },
     "metadata": {},
     "output_type": "display_data"
    },
    {
     "data": {
      "application/vnd.jupyter.widget-view+json": {
       "model_id": "ee15bc88fb4d4267bf415fe976facd54",
       "version_major": 2,
       "version_minor": 0
      },
      "text/plain": [
       "Training batches on cpu:   0%|          | 0/737 [00:00<?, ?batch/s]"
      ]
     },
     "metadata": {},
     "output_type": "display_data"
    },
    {
     "data": {
      "application/vnd.jupyter.widget-view+json": {
       "model_id": "661d75713a6141e09011a90d19139c38",
       "version_major": 2,
       "version_minor": 0
      },
      "text/plain": [
       "Training batches on cpu:   0%|          | 0/737 [00:00<?, ?batch/s]"
      ]
     },
     "metadata": {},
     "output_type": "display_data"
    },
    {
     "data": {
      "application/vnd.jupyter.widget-view+json": {
       "model_id": "372b83eabeb24ee488ff2360daa38c9f",
       "version_major": 2,
       "version_minor": 0
      },
      "text/plain": [
       "Training batches on cpu:   0%|          | 0/737 [00:00<?, ?batch/s]"
      ]
     },
     "metadata": {},
     "output_type": "display_data"
    },
    {
     "data": {
      "application/vnd.jupyter.widget-view+json": {
       "model_id": "97890f95c9eb4a1a9407083e4e4d305e",
       "version_major": 2,
       "version_minor": 0
      },
      "text/plain": [
       "Training batches on cpu:   0%|          | 0/737 [00:00<?, ?batch/s]"
      ]
     },
     "metadata": {},
     "output_type": "display_data"
    },
    {
     "name": "stderr",
     "output_type": "stream",
     "text": [
      "INFO:pykeen.evaluation.evaluator:Currently automatic memory optimization only supports GPUs, but you're using a CPU. Therefore, the batch_size will be set to the default value.\n",
      "INFO:pykeen.evaluation.evaluator:No evaluation batch_size provided. Setting batch_size to '32'.\n"
     ]
    },
    {
     "data": {
      "application/vnd.jupyter.widget-view+json": {
       "model_id": "a770298e930a4da9ba1e6cd8fc361a8c",
       "version_major": 2,
       "version_minor": 0
      },
      "text/plain": [
       "Evaluating on cpu:   0%|          | 0.00/47.2k [00:00<?, ?triple/s]"
      ]
     },
     "metadata": {},
     "output_type": "display_data"
    },
    {
     "ename": "KeyboardInterrupt",
     "evalue": "",
     "output_type": "error",
     "traceback": [
      "\u001b[0;31m---------------------------------------------------------------------------\u001b[0m",
      "\u001b[0;31mKeyboardInterrupt\u001b[0m                         Traceback (most recent call last)",
      "\u001b[1;32m/home/nasredine/dev/python/graph_embedding/pyKEEN/pykeen.ipynb Cell 10'\u001b[0m in \u001b[0;36m<cell line: 6>\u001b[0;34m()\u001b[0m\n\u001b[1;32m      <a href='vscode-notebook-cell:/home/nasredine/dev/python/graph_embedding/pyKEEN/pykeen.ipynb#ch0000004?line=8'>9</a>\u001b[0m     model \u001b[39m=\u001b[39m result\n\u001b[1;32m     <a href='vscode-notebook-cell:/home/nasredine/dev/python/graph_embedding/pyKEEN/pykeen.ipynb#ch0000004?line=9'>10</a>\u001b[0m \u001b[39melse\u001b[39;00m :\n\u001b[0;32m---> <a href='vscode-notebook-cell:/home/nasredine/dev/python/graph_embedding/pyKEEN/pykeen.ipynb#ch0000004?line=10'>11</a>\u001b[0m     train()\n",
      "\u001b[1;32m/home/nasredine/dev/python/graph_embedding/pyKEEN/pykeen.ipynb Cell 8'\u001b[0m in \u001b[0;36mtrain\u001b[0;34m()\u001b[0m\n\u001b[1;32m      <a href='vscode-notebook-cell:/home/nasredine/dev/python/graph_embedding/pyKEEN/pykeen.ipynb#ch0000025?line=0'>1</a>\u001b[0m \u001b[39mdef\u001b[39;00m \u001b[39mtrain\u001b[39m():\n\u001b[0;32m----> <a href='vscode-notebook-cell:/home/nasredine/dev/python/graph_embedding/pyKEEN/pykeen.ipynb#ch0000025?line=2'>3</a>\u001b[0m     result \u001b[39m=\u001b[39m pipeline(\n\u001b[1;32m      <a href='vscode-notebook-cell:/home/nasredine/dev/python/graph_embedding/pyKEEN/pykeen.ipynb#ch0000025?line=3'>4</a>\u001b[0m         training\u001b[39m=\u001b[39;49mtraining,\n\u001b[1;32m      <a href='vscode-notebook-cell:/home/nasredine/dev/python/graph_embedding/pyKEEN/pykeen.ipynb#ch0000025?line=4'>5</a>\u001b[0m         testing\u001b[39m=\u001b[39;49mtesting,\n\u001b[1;32m      <a href='vscode-notebook-cell:/home/nasredine/dev/python/graph_embedding/pyKEEN/pykeen.ipynb#ch0000025?line=5'>6</a>\u001b[0m         model\u001b[39m=\u001b[39;49m\u001b[39m'\u001b[39;49m\u001b[39mTransE\u001b[39;49m\u001b[39m'\u001b[39;49m,\n\u001b[1;32m      <a href='vscode-notebook-cell:/home/nasredine/dev/python/graph_embedding/pyKEEN/pykeen.ipynb#ch0000025?line=6'>7</a>\u001b[0m         epochs\u001b[39m=\u001b[39;49m\u001b[39m5\u001b[39;49m,  \u001b[39m# 228 short epochs for testing - you should go higher\u001b[39;49;00m\n\u001b[1;32m      <a href='vscode-notebook-cell:/home/nasredine/dev/python/graph_embedding/pyKEEN/pykeen.ipynb#ch0000025?line=7'>8</a>\u001b[0m     )\n\u001b[1;32m      <a href='vscode-notebook-cell:/home/nasredine/dev/python/graph_embedding/pyKEEN/pykeen.ipynb#ch0000025?line=8'>9</a>\u001b[0m     model \u001b[39m=\u001b[39m result\u001b[39m.\u001b[39mmodel\n\u001b[1;32m     <a href='vscode-notebook-cell:/home/nasredine/dev/python/graph_embedding/pyKEEN/pykeen.ipynb#ch0000025?line=9'>10</a>\u001b[0m     result\u001b[39m.\u001b[39msave_to_directory(\u001b[39m'\u001b[39m\u001b[39mdata/test_unstratified_transe\u001b[39m\u001b[39m'\u001b[39m)\n",
      "File \u001b[0;32m~/.local/lib/python3.10/site-packages/pykeen/pipeline/api.py:1314\u001b[0m, in \u001b[0;36mpipeline\u001b[0;34m(dataset, dataset_kwargs, training, testing, validation, evaluation_entity_whitelist, evaluation_relation_whitelist, model, model_kwargs, interaction, interaction_kwargs, dimensions, loss, loss_kwargs, regularizer, regularizer_kwargs, optimizer, optimizer_kwargs, clear_optimizer, lr_scheduler, lr_scheduler_kwargs, training_loop, training_loop_kwargs, negative_sampler, negative_sampler_kwargs, epochs, training_kwargs, stopper, stopper_kwargs, evaluator, evaluator_kwargs, evaluation_kwargs, result_tracker, result_tracker_kwargs, metadata, device, random_seed, use_testing_data, evaluation_fallback, filter_validation_when_testing, use_tqdm)\u001b[0m\n\u001b[1;32m   <a href='file:///home/nasredine/.local/lib/python3.10/site-packages/pykeen/pipeline/api.py?line=1304'>1305</a>\u001b[0m _result_tracker\u001b[39m.\u001b[39mlog_params(\n\u001b[1;32m   <a href='file:///home/nasredine/.local/lib/python3.10/site-packages/pykeen/pipeline/api.py?line=1305'>1306</a>\u001b[0m     params\u001b[39m=\u001b[39m\u001b[39mdict\u001b[39m(\n\u001b[1;32m   <a href='file:///home/nasredine/.local/lib/python3.10/site-packages/pykeen/pipeline/api.py?line=1306'>1307</a>\u001b[0m         evaluation_kwargs\u001b[39m=\u001b[39m{\n\u001b[0;32m   (...)\u001b[0m\n\u001b[1;32m   <a href='file:///home/nasredine/.local/lib/python3.10/site-packages/pykeen/pipeline/api.py?line=1310'>1311</a>\u001b[0m     )\n\u001b[1;32m   <a href='file:///home/nasredine/.local/lib/python3.10/site-packages/pykeen/pipeline/api.py?line=1311'>1312</a>\u001b[0m )\n\u001b[1;32m   <a href='file:///home/nasredine/.local/lib/python3.10/site-packages/pykeen/pipeline/api.py?line=1312'>1313</a>\u001b[0m evaluate_start_time \u001b[39m=\u001b[39m time\u001b[39m.\u001b[39mtime()\n\u001b[0;32m-> <a href='file:///home/nasredine/.local/lib/python3.10/site-packages/pykeen/pipeline/api.py?line=1313'>1314</a>\u001b[0m metric_results: MetricResults \u001b[39m=\u001b[39m _safe_evaluate(\n\u001b[1;32m   <a href='file:///home/nasredine/.local/lib/python3.10/site-packages/pykeen/pipeline/api.py?line=1314'>1315</a>\u001b[0m     model\u001b[39m=\u001b[39;49mmodel_instance,\n\u001b[1;32m   <a href='file:///home/nasredine/.local/lib/python3.10/site-packages/pykeen/pipeline/api.py?line=1315'>1316</a>\u001b[0m     mapped_triples\u001b[39m=\u001b[39;49mmapped_triples,\n\u001b[1;32m   <a href='file:///home/nasredine/.local/lib/python3.10/site-packages/pykeen/pipeline/api.py?line=1316'>1317</a>\u001b[0m     evaluator\u001b[39m=\u001b[39;49mevaluator_instance,\n\u001b[1;32m   <a href='file:///home/nasredine/.local/lib/python3.10/site-packages/pykeen/pipeline/api.py?line=1317'>1318</a>\u001b[0m     evaluation_kwargs\u001b[39m=\u001b[39;49mevaluation_kwargs,\n\u001b[1;32m   <a href='file:///home/nasredine/.local/lib/python3.10/site-packages/pykeen/pipeline/api.py?line=1318'>1319</a>\u001b[0m     evaluation_fallback\u001b[39m=\u001b[39;49mevaluation_fallback,\n\u001b[1;32m   <a href='file:///home/nasredine/.local/lib/python3.10/site-packages/pykeen/pipeline/api.py?line=1319'>1320</a>\u001b[0m )\n\u001b[1;32m   <a href='file:///home/nasredine/.local/lib/python3.10/site-packages/pykeen/pipeline/api.py?line=1320'>1321</a>\u001b[0m evaluate_end_time \u001b[39m=\u001b[39m time\u001b[39m.\u001b[39mtime() \u001b[39m-\u001b[39m evaluate_start_time\n\u001b[1;32m   <a href='file:///home/nasredine/.local/lib/python3.10/site-packages/pykeen/pipeline/api.py?line=1321'>1322</a>\u001b[0m _result_tracker\u001b[39m.\u001b[39mlog_metrics(metrics\u001b[39m=\u001b[39m\u001b[39mdict\u001b[39m(final_evaluation\u001b[39m=\u001b[39mevaluate_end_time), step\u001b[39m=\u001b[39mstep, prefix\u001b[39m=\u001b[39m\u001b[39m\"\u001b[39m\u001b[39mtimes\u001b[39m\u001b[39m\"\u001b[39m)\n",
      "File \u001b[0;32m~/.local/lib/python3.10/site-packages/pykeen/pipeline/api.py:1369\u001b[0m, in \u001b[0;36m_safe_evaluate\u001b[0;34m(model, mapped_triples, evaluator, evaluation_kwargs, evaluation_fallback)\u001b[0m\n\u001b[1;32m   <a href='file:///home/nasredine/.local/lib/python3.10/site-packages/pykeen/pipeline/api.py?line=1366'>1367</a>\u001b[0m \u001b[39mwhile\u001b[39;00m \u001b[39mTrue\u001b[39;00m:\n\u001b[1;32m   <a href='file:///home/nasredine/.local/lib/python3.10/site-packages/pykeen/pipeline/api.py?line=1367'>1368</a>\u001b[0m     \u001b[39mtry\u001b[39;00m:\n\u001b[0;32m-> <a href='file:///home/nasredine/.local/lib/python3.10/site-packages/pykeen/pipeline/api.py?line=1368'>1369</a>\u001b[0m         metric_results: MetricResults \u001b[39m=\u001b[39m evaluator\u001b[39m.\u001b[39;49mevaluate(\n\u001b[1;32m   <a href='file:///home/nasredine/.local/lib/python3.10/site-packages/pykeen/pipeline/api.py?line=1369'>1370</a>\u001b[0m             model\u001b[39m=\u001b[39;49mmodel,\n\u001b[1;32m   <a href='file:///home/nasredine/.local/lib/python3.10/site-packages/pykeen/pipeline/api.py?line=1370'>1371</a>\u001b[0m             mapped_triples\u001b[39m=\u001b[39;49mmapped_triples,\n\u001b[1;32m   <a href='file:///home/nasredine/.local/lib/python3.10/site-packages/pykeen/pipeline/api.py?line=1371'>1372</a>\u001b[0m             \u001b[39m*\u001b[39;49m\u001b[39m*\u001b[39;49mevaluation_kwargs,\n\u001b[1;32m   <a href='file:///home/nasredine/.local/lib/python3.10/site-packages/pykeen/pipeline/api.py?line=1372'>1373</a>\u001b[0m         )\n\u001b[1;32m   <a href='file:///home/nasredine/.local/lib/python3.10/site-packages/pykeen/pipeline/api.py?line=1373'>1374</a>\u001b[0m     \u001b[39mexcept\u001b[39;00m (\u001b[39mMemoryError\u001b[39;00m, \u001b[39mRuntimeError\u001b[39;00m) \u001b[39mas\u001b[39;00m e:\n\u001b[1;32m   <a href='file:///home/nasredine/.local/lib/python3.10/site-packages/pykeen/pipeline/api.py?line=1374'>1375</a>\u001b[0m         \u001b[39m# If the evaluation still fail using the CPU, the error is raised\u001b[39;00m\n\u001b[1;32m   <a href='file:///home/nasredine/.local/lib/python3.10/site-packages/pykeen/pipeline/api.py?line=1375'>1376</a>\u001b[0m         \u001b[39mif\u001b[39;00m model\u001b[39m.\u001b[39mdevice\u001b[39m.\u001b[39mtype \u001b[39m!=\u001b[39m \u001b[39m\"\u001b[39m\u001b[39mcuda\u001b[39m\u001b[39m\"\u001b[39m \u001b[39mor\u001b[39;00m \u001b[39mnot\u001b[39;00m evaluation_fallback:\n",
      "File \u001b[0;32m~/.local/lib/python3.10/site-packages/pykeen/evaluation/evaluator.py:193\u001b[0m, in \u001b[0;36mEvaluator.evaluate\u001b[0;34m(self, model, mapped_triples, batch_size, slice_size, device, use_tqdm, tqdm_kwargs, restrict_entities_to, do_time_consuming_checks, additional_filter_triples)\u001b[0m\n\u001b[1;32m    <a href='file:///home/nasredine/.local/lib/python3.10/site-packages/pykeen/evaluation/evaluator.py?line=189'>190</a>\u001b[0m         \u001b[39m# Clear the ranks from the current evaluator\u001b[39;00m\n\u001b[1;32m    <a href='file:///home/nasredine/.local/lib/python3.10/site-packages/pykeen/evaluation/evaluator.py?line=190'>191</a>\u001b[0m         \u001b[39mself\u001b[39m\u001b[39m.\u001b[39mfinalize()\n\u001b[0;32m--> <a href='file:///home/nasredine/.local/lib/python3.10/site-packages/pykeen/evaluation/evaluator.py?line=192'>193</a>\u001b[0m rv \u001b[39m=\u001b[39m evaluate(\n\u001b[1;32m    <a href='file:///home/nasredine/.local/lib/python3.10/site-packages/pykeen/evaluation/evaluator.py?line=193'>194</a>\u001b[0m     model\u001b[39m=\u001b[39;49mmodel,\n\u001b[1;32m    <a href='file:///home/nasredine/.local/lib/python3.10/site-packages/pykeen/evaluation/evaluator.py?line=194'>195</a>\u001b[0m     additional_filter_triples\u001b[39m=\u001b[39;49madditional_filter_triples,\n\u001b[1;32m    <a href='file:///home/nasredine/.local/lib/python3.10/site-packages/pykeen/evaluation/evaluator.py?line=195'>196</a>\u001b[0m     mapped_triples\u001b[39m=\u001b[39;49mmapped_triples,\n\u001b[1;32m    <a href='file:///home/nasredine/.local/lib/python3.10/site-packages/pykeen/evaluation/evaluator.py?line=196'>197</a>\u001b[0m     evaluator\u001b[39m=\u001b[39;49m\u001b[39mself\u001b[39;49m,\n\u001b[1;32m    <a href='file:///home/nasredine/.local/lib/python3.10/site-packages/pykeen/evaluation/evaluator.py?line=197'>198</a>\u001b[0m     batch_size\u001b[39m=\u001b[39;49mbatch_size,\n\u001b[1;32m    <a href='file:///home/nasredine/.local/lib/python3.10/site-packages/pykeen/evaluation/evaluator.py?line=198'>199</a>\u001b[0m     slice_size\u001b[39m=\u001b[39;49mslice_size,\n\u001b[1;32m    <a href='file:///home/nasredine/.local/lib/python3.10/site-packages/pykeen/evaluation/evaluator.py?line=199'>200</a>\u001b[0m     device\u001b[39m=\u001b[39;49mdevice,\n\u001b[1;32m    <a href='file:///home/nasredine/.local/lib/python3.10/site-packages/pykeen/evaluation/evaluator.py?line=200'>201</a>\u001b[0m     use_tqdm\u001b[39m=\u001b[39;49muse_tqdm,\n\u001b[1;32m    <a href='file:///home/nasredine/.local/lib/python3.10/site-packages/pykeen/evaluation/evaluator.py?line=201'>202</a>\u001b[0m     tqdm_kwargs\u001b[39m=\u001b[39;49mtqdm_kwargs,\n\u001b[1;32m    <a href='file:///home/nasredine/.local/lib/python3.10/site-packages/pykeen/evaluation/evaluator.py?line=202'>203</a>\u001b[0m     restrict_entities_to\u001b[39m=\u001b[39;49mrestrict_entities_to,\n\u001b[1;32m    <a href='file:///home/nasredine/.local/lib/python3.10/site-packages/pykeen/evaluation/evaluator.py?line=203'>204</a>\u001b[0m     do_time_consuming_checks\u001b[39m=\u001b[39;49mdo_time_consuming_checks,\n\u001b[1;32m    <a href='file:///home/nasredine/.local/lib/python3.10/site-packages/pykeen/evaluation/evaluator.py?line=204'>205</a>\u001b[0m     mode\u001b[39m=\u001b[39;49m\u001b[39mself\u001b[39;49m\u001b[39m.\u001b[39;49mmode,\n\u001b[1;32m    <a href='file:///home/nasredine/.local/lib/python3.10/site-packages/pykeen/evaluation/evaluator.py?line=205'>206</a>\u001b[0m )\n\u001b[1;32m    <a href='file:///home/nasredine/.local/lib/python3.10/site-packages/pykeen/evaluation/evaluator.py?line=206'>207</a>\u001b[0m \u001b[39m# Since squeeze is true, we can expect that evaluate returns a MetricResult, but we need to tell MyPy that\u001b[39;00m\n\u001b[1;32m    <a href='file:///home/nasredine/.local/lib/python3.10/site-packages/pykeen/evaluation/evaluator.py?line=207'>208</a>\u001b[0m \u001b[39mreturn\u001b[39;00m cast(MetricResults, rv)\n",
      "File \u001b[0;32m~/.local/lib/python3.10/site-packages/pykeen/evaluation/evaluator.py:698\u001b[0m, in \u001b[0;36mevaluate\u001b[0;34m(model, mapped_triples, evaluator, only_size_probing, batch_size, slice_size, device, use_tqdm, tqdm_kwargs, restrict_entities_to, restrict_relations_to, do_time_consuming_checks, additional_filter_triples, pre_filtered_triples, targets, mode)\u001b[0m\n\u001b[1;32m    <a href='file:///home/nasredine/.local/lib/python3.10/site-packages/pykeen/evaluation/evaluator.py?line=695'>696</a>\u001b[0m relation_filter \u001b[39m=\u001b[39m \u001b[39mNone\u001b[39;00m\n\u001b[1;32m    <a href='file:///home/nasredine/.local/lib/python3.10/site-packages/pykeen/evaluation/evaluator.py?line=696'>697</a>\u001b[0m \u001b[39mfor\u001b[39;00m target \u001b[39min\u001b[39;00m targets:\n\u001b[0;32m--> <a href='file:///home/nasredine/.local/lib/python3.10/site-packages/pykeen/evaluation/evaluator.py?line=697'>698</a>\u001b[0m     relation_filter \u001b[39m=\u001b[39m _evaluate_batch(\n\u001b[1;32m    <a href='file:///home/nasredine/.local/lib/python3.10/site-packages/pykeen/evaluation/evaluator.py?line=698'>699</a>\u001b[0m         batch\u001b[39m=\u001b[39;49mbatch,\n\u001b[1;32m    <a href='file:///home/nasredine/.local/lib/python3.10/site-packages/pykeen/evaluation/evaluator.py?line=699'>700</a>\u001b[0m         model\u001b[39m=\u001b[39;49mmodel,\n\u001b[1;32m    <a href='file:///home/nasredine/.local/lib/python3.10/site-packages/pykeen/evaluation/evaluator.py?line=700'>701</a>\u001b[0m         target\u001b[39m=\u001b[39;49mtarget,\n\u001b[1;32m    <a href='file:///home/nasredine/.local/lib/python3.10/site-packages/pykeen/evaluation/evaluator.py?line=701'>702</a>\u001b[0m         evaluator\u001b[39m=\u001b[39;49mevaluator,\n\u001b[1;32m    <a href='file:///home/nasredine/.local/lib/python3.10/site-packages/pykeen/evaluation/evaluator.py?line=702'>703</a>\u001b[0m         slice_size\u001b[39m=\u001b[39;49mslice_size,\n\u001b[1;32m    <a href='file:///home/nasredine/.local/lib/python3.10/site-packages/pykeen/evaluation/evaluator.py?line=703'>704</a>\u001b[0m         all_pos_triples\u001b[39m=\u001b[39;49mall_pos_triples,\n\u001b[1;32m    <a href='file:///home/nasredine/.local/lib/python3.10/site-packages/pykeen/evaluation/evaluator.py?line=704'>705</a>\u001b[0m         relation_filter\u001b[39m=\u001b[39;49mrelation_filter,\n\u001b[1;32m    <a href='file:///home/nasredine/.local/lib/python3.10/site-packages/pykeen/evaluation/evaluator.py?line=705'>706</a>\u001b[0m         restrict_entities_to\u001b[39m=\u001b[39;49mrestrict_entities_to,\n\u001b[1;32m    <a href='file:///home/nasredine/.local/lib/python3.10/site-packages/pykeen/evaluation/evaluator.py?line=706'>707</a>\u001b[0m         mode\u001b[39m=\u001b[39;49mmode,\n\u001b[1;32m    <a href='file:///home/nasredine/.local/lib/python3.10/site-packages/pykeen/evaluation/evaluator.py?line=707'>708</a>\u001b[0m     )\n\u001b[1;32m    <a href='file:///home/nasredine/.local/lib/python3.10/site-packages/pykeen/evaluation/evaluator.py?line=709'>710</a>\u001b[0m \u001b[39m# If we only probe sizes we do not need more than one batch\u001b[39;00m\n\u001b[1;32m    <a href='file:///home/nasredine/.local/lib/python3.10/site-packages/pykeen/evaluation/evaluator.py?line=710'>711</a>\u001b[0m \u001b[39mif\u001b[39;00m only_size_probing \u001b[39mand\u001b[39;00m evaluated_once:\n",
      "File \u001b[0;32m~/.local/lib/python3.10/site-packages/pykeen/evaluation/evaluator.py:771\u001b[0m, in \u001b[0;36m_evaluate_batch\u001b[0;34m(batch, model, target, evaluator, slice_size, all_pos_triples, relation_filter, restrict_entities_to, mode)\u001b[0m\n\u001b[1;32m    <a href='file:///home/nasredine/.local/lib/python3.10/site-packages/pykeen/evaluation/evaluator.py?line=730'>731</a>\u001b[0m \u001b[39mdef\u001b[39;00m \u001b[39m_evaluate_batch\u001b[39m(\n\u001b[1;32m    <a href='file:///home/nasredine/.local/lib/python3.10/site-packages/pykeen/evaluation/evaluator.py?line=731'>732</a>\u001b[0m     batch: MappedTriples,\n\u001b[1;32m    <a href='file:///home/nasredine/.local/lib/python3.10/site-packages/pykeen/evaluation/evaluator.py?line=732'>733</a>\u001b[0m     model: Model,\n\u001b[0;32m   (...)\u001b[0m\n\u001b[1;32m    <a href='file:///home/nasredine/.local/lib/python3.10/site-packages/pykeen/evaluation/evaluator.py?line=740'>741</a>\u001b[0m     mode: Optional[InductiveMode],\n\u001b[1;32m    <a href='file:///home/nasredine/.local/lib/python3.10/site-packages/pykeen/evaluation/evaluator.py?line=741'>742</a>\u001b[0m ) \u001b[39m-\u001b[39m\u001b[39m>\u001b[39m torch\u001b[39m.\u001b[39mBoolTensor:\n\u001b[1;32m    <a href='file:///home/nasredine/.local/lib/python3.10/site-packages/pykeen/evaluation/evaluator.py?line=742'>743</a>\u001b[0m     \u001b[39m\"\"\"\u001b[39;00m\n\u001b[1;32m    <a href='file:///home/nasredine/.local/lib/python3.10/site-packages/pykeen/evaluation/evaluator.py?line=743'>744</a>\u001b[0m \u001b[39m    Evaluate ranking for batch.\u001b[39;00m\n\u001b[1;32m    <a href='file:///home/nasredine/.local/lib/python3.10/site-packages/pykeen/evaluation/evaluator.py?line=744'>745</a>\u001b[0m \n\u001b[0;32m   (...)\u001b[0m\n\u001b[1;32m    <a href='file:///home/nasredine/.local/lib/python3.10/site-packages/pykeen/evaluation/evaluator.py?line=768'>769</a>\u001b[0m \u001b[39m        The relation filter, which can be re-used for the same batch.\u001b[39;00m\n\u001b[1;32m    <a href='file:///home/nasredine/.local/lib/python3.10/site-packages/pykeen/evaluation/evaluator.py?line=769'>770</a>\u001b[0m \u001b[39m    \"\"\"\u001b[39;00m\n\u001b[0;32m--> <a href='file:///home/nasredine/.local/lib/python3.10/site-packages/pykeen/evaluation/evaluator.py?line=770'>771</a>\u001b[0m     scores \u001b[39m=\u001b[39m model\u001b[39m.\u001b[39;49mpredict(hrt_batch\u001b[39m=\u001b[39;49mbatch, target\u001b[39m=\u001b[39;49mtarget, slice_size\u001b[39m=\u001b[39;49mslice_size, mode\u001b[39m=\u001b[39;49mmode)\n\u001b[1;32m    <a href='file:///home/nasredine/.local/lib/python3.10/site-packages/pykeen/evaluation/evaluator.py?line=772'>773</a>\u001b[0m     \u001b[39mif\u001b[39;00m evaluator\u001b[39m.\u001b[39mfiltered \u001b[39mor\u001b[39;00m evaluator\u001b[39m.\u001b[39mrequires_positive_mask:\n\u001b[1;32m    <a href='file:///home/nasredine/.local/lib/python3.10/site-packages/pykeen/evaluation/evaluator.py?line=773'>774</a>\u001b[0m         column \u001b[39m=\u001b[39m TARGET_TO_INDEX[target]\n",
      "File \u001b[0;32m~/.local/lib/python3.10/site-packages/pykeen/models/base.py:437\u001b[0m, in \u001b[0;36mModel.predict\u001b[0;34m(self, hrt_batch, target, slice_size, mode)\u001b[0m\n\u001b[1;32m    <a href='file:///home/nasredine/.local/lib/python3.10/site-packages/pykeen/models/base.py?line=433'>434</a>\u001b[0m     \u001b[39mreturn\u001b[39;00m \u001b[39mself\u001b[39m\u001b[39m.\u001b[39mpredict_r(hrt_batch[:, [\u001b[39m0\u001b[39m, \u001b[39m2\u001b[39m]], slice_size\u001b[39m=\u001b[39mslice_size, mode\u001b[39m=\u001b[39mmode)\n\u001b[1;32m    <a href='file:///home/nasredine/.local/lib/python3.10/site-packages/pykeen/models/base.py?line=435'>436</a>\u001b[0m \u001b[39mif\u001b[39;00m target \u001b[39m==\u001b[39m LABEL_HEAD:\n\u001b[0;32m--> <a href='file:///home/nasredine/.local/lib/python3.10/site-packages/pykeen/models/base.py?line=436'>437</a>\u001b[0m     \u001b[39mreturn\u001b[39;00m \u001b[39mself\u001b[39;49m\u001b[39m.\u001b[39;49mpredict_h(hrt_batch[:, \u001b[39m1\u001b[39;49m:\u001b[39m3\u001b[39;49m], slice_size\u001b[39m=\u001b[39;49mslice_size, mode\u001b[39m=\u001b[39;49mmode)\n\u001b[1;32m    <a href='file:///home/nasredine/.local/lib/python3.10/site-packages/pykeen/models/base.py?line=438'>439</a>\u001b[0m \u001b[39mraise\u001b[39;00m \u001b[39mValueError\u001b[39;00m(\u001b[39mf\u001b[39m\u001b[39m\"\u001b[39m\u001b[39mUnknown target=\u001b[39m\u001b[39m{\u001b[39;00mtarget\u001b[39m}\u001b[39;00m\u001b[39m\"\u001b[39m)\n",
      "File \u001b[0;32m~/.local/lib/python3.10/site-packages/pykeen/models/base.py:347\u001b[0m, in \u001b[0;36mModel.predict_h\u001b[0;34m(self, rt_batch, slice_size, mode)\u001b[0m\n\u001b[1;32m    <a href='file:///home/nasredine/.local/lib/python3.10/site-packages/pykeen/models/base.py?line=344'>345</a>\u001b[0m     scores \u001b[39m=\u001b[39m \u001b[39mself\u001b[39m\u001b[39m.\u001b[39mscore_h_inverse(rt_batch\u001b[39m=\u001b[39mrt_batch, slice_size\u001b[39m=\u001b[39mslice_size, mode\u001b[39m=\u001b[39mmode)\n\u001b[1;32m    <a href='file:///home/nasredine/.local/lib/python3.10/site-packages/pykeen/models/base.py?line=345'>346</a>\u001b[0m \u001b[39melse\u001b[39;00m:\n\u001b[0;32m--> <a href='file:///home/nasredine/.local/lib/python3.10/site-packages/pykeen/models/base.py?line=346'>347</a>\u001b[0m     scores \u001b[39m=\u001b[39m \u001b[39mself\u001b[39;49m\u001b[39m.\u001b[39;49mscore_h(rt_batch, slice_size\u001b[39m=\u001b[39;49mslice_size, mode\u001b[39m=\u001b[39;49mmode)\n\u001b[1;32m    <a href='file:///home/nasredine/.local/lib/python3.10/site-packages/pykeen/models/base.py?line=347'>348</a>\u001b[0m \u001b[39mif\u001b[39;00m \u001b[39mself\u001b[39m\u001b[39m.\u001b[39mpredict_with_sigmoid:\n\u001b[1;32m    <a href='file:///home/nasredine/.local/lib/python3.10/site-packages/pykeen/models/base.py?line=348'>349</a>\u001b[0m     scores \u001b[39m=\u001b[39m torch\u001b[39m.\u001b[39msigmoid(scores)\n",
      "File \u001b[0;32m~/.local/lib/python3.10/site-packages/pykeen/models/unimodal/trans_e.py:126\u001b[0m, in \u001b[0;36mTransE.score_h\u001b[0;34m(self, rt_batch, **kwargs)\u001b[0m\n\u001b[1;32m    <a href='file:///home/nasredine/.local/lib/python3.10/site-packages/pykeen/models/unimodal/trans_e.py?line=122'>123</a>\u001b[0m t \u001b[39m=\u001b[39m \u001b[39mself\u001b[39m\u001b[39m.\u001b[39mentity_embeddings(indices\u001b[39m=\u001b[39mrt_batch[:, \u001b[39m1\u001b[39m])\n\u001b[1;32m    <a href='file:///home/nasredine/.local/lib/python3.10/site-packages/pykeen/models/unimodal/trans_e.py?line=124'>125</a>\u001b[0m \u001b[39m# TODO: Use torch.cdist (see note above in score_hrt())\u001b[39;00m\n\u001b[0;32m--> <a href='file:///home/nasredine/.local/lib/python3.10/site-packages/pykeen/models/unimodal/trans_e.py?line=125'>126</a>\u001b[0m \u001b[39mreturn\u001b[39;00m \u001b[39m-\u001b[39mlinalg\u001b[39m.\u001b[39;49mvector_norm(h[\u001b[39mNone\u001b[39;49;00m, :, :] \u001b[39m+\u001b[39;49m (r[:, \u001b[39mNone\u001b[39;49;00m, :] \u001b[39m-\u001b[39;49m t[:, \u001b[39mNone\u001b[39;49;00m, :]), dim\u001b[39m=\u001b[39;49m\u001b[39m-\u001b[39;49m\u001b[39m1\u001b[39;49m, \u001b[39mord\u001b[39;49m\u001b[39m=\u001b[39;49m\u001b[39mself\u001b[39;49m\u001b[39m.\u001b[39;49mscoring_fct_norm)\n",
      "\u001b[0;31mKeyboardInterrupt\u001b[0m: "
     ]
    }
   ],
   "source": [
    "import torch\n",
    "\n",
    "#  if pre trained model exists, load it\n",
    "model_path = base_dir +dataset+ \"_model.pkl\"\n",
    "\n",
    "if exists(model_path):\n",
    "    print(\"loading existing model\")\n",
    "    result = torch.load(model_path)\n",
    "    model = result\n",
    "else :\n",
    "    train()\n"
   ]
  },
  {
   "cell_type": "code",
   "execution_count": 47,
   "metadata": {},
   "outputs": [
    {
     "data": {
      "text/plain": [
       "pykeen.triples.triples_factory.TriplesFactory"
      ]
     },
     "execution_count": 47,
     "metadata": {},
     "output_type": "execute_result"
    }
   ],
   "source": [
    "testing.triples"
   ]
  },
  {
   "cell_type": "code",
   "execution_count": 53,
   "metadata": {},
   "outputs": [
    {
     "data": {
      "text/plain": [
       "[1125]"
      ]
     },
     "execution_count": 53,
     "metadata": {},
     "output_type": "execute_result"
    }
   ],
   "source": [
    "testing.entities_to_ids([\"<http://publications.europa.eu/resource/cellar/059e98ea-049c-49e2-a348-6aaa5157136b>\"])"
   ]
  },
  {
   "cell_type": "code",
   "execution_count": null,
   "metadata": {},
   "outputs": [],
   "source": [
    "testing.triples"
   ]
  },
  {
   "cell_type": "code",
   "execution_count": 91,
   "metadata": {},
   "outputs": [],
   "source": [
    "from pykeen.models.predict import get_tail_prediction_df\n",
    "\n",
    "def predict_eurovoc(head_label,relation_label,triples_factory,model ): \n",
    "    print(head_label)\n",
    "    df = get_tail_prediction_df(\n",
    "    model=model,\n",
    "    head_label= head_label,\n",
    "    relation_label= relation_label,\n",
    "    triples_factory=triples_factory,\n",
    "    add_novelties=False,\n",
    "    )\n",
    "    \n",
    "    return df"
   ]
  },
  {
   "cell_type": "code",
   "execution_count": 92,
   "metadata": {},
   "outputs": [
    {
     "name": "stdout",
     "output_type": "stream",
     "text": [
      "<http://publications.europa.eu/resource/cellar/059e98ea-049c-49e2-a348-6aaa5157136b>\n"
     ]
    },
    {
     "data": {
      "text/html": [
       "<div>\n",
       "<style scoped>\n",
       "    .dataframe tbody tr th:only-of-type {\n",
       "        vertical-align: middle;\n",
       "    }\n",
       "\n",
       "    .dataframe tbody tr th {\n",
       "        vertical-align: top;\n",
       "    }\n",
       "\n",
       "    .dataframe thead th {\n",
       "        text-align: right;\n",
       "    }\n",
       "</style>\n",
       "<table border=\"1\" class=\"dataframe\">\n",
       "  <thead>\n",
       "    <tr style=\"text-align: right;\">\n",
       "      <th></th>\n",
       "      <th>tail_id</th>\n",
       "      <th>tail_label</th>\n",
       "      <th>score</th>\n",
       "    </tr>\n",
       "  </thead>\n",
       "  <tbody>\n",
       "    <tr>\n",
       "      <th>588</th>\n",
       "      <td>588</td>\n",
       "      <td>&lt;http://eurovoc.europa.eu/5589&gt;</td>\n",
       "      <td>-6.211856</td>\n",
       "    </tr>\n",
       "    <tr>\n",
       "      <th>553</th>\n",
       "      <td>553</td>\n",
       "      <td>&lt;http://eurovoc.europa.eu/4360&gt;</td>\n",
       "      <td>-6.340346</td>\n",
       "    </tr>\n",
       "    <tr>\n",
       "      <th>572</th>\n",
       "      <td>572</td>\n",
       "      <td>&lt;http://eurovoc.europa.eu/5043&gt;</td>\n",
       "      <td>-6.341881</td>\n",
       "    </tr>\n",
       "    <tr>\n",
       "      <th>1125</th>\n",
       "      <td>1125</td>\n",
       "      <td>&lt;http://publications.europa.eu/resource/cellar...</td>\n",
       "      <td>-6.392386</td>\n",
       "    </tr>\n",
       "    <tr>\n",
       "      <th>1560</th>\n",
       "      <td>1560</td>\n",
       "      <td>ep:P7_QE(2010)4660^^&lt;http://www.w3.org/2001/XM...</td>\n",
       "      <td>-6.751966</td>\n",
       "    </tr>\n",
       "    <tr>\n",
       "      <th>...</th>\n",
       "      <td>...</td>\n",
       "      <td>...</td>\n",
       "      <td>...</td>\n",
       "    </tr>\n",
       "    <tr>\n",
       "      <th>274</th>\n",
       "      <td>274</td>\n",
       "      <td>2021-07-05T17:15:21.179+02:00^^&lt;http://www.w3....</td>\n",
       "      <td>-10.841079</td>\n",
       "    </tr>\n",
       "    <tr>\n",
       "      <th>101</th>\n",
       "      <td>101</td>\n",
       "      <td>1996-10-02^^&lt;http://www.w3.org/2001/XMLSchema#...</td>\n",
       "      <td>-10.842767</td>\n",
       "    </tr>\n",
       "    <tr>\n",
       "      <th>1055</th>\n",
       "      <td>1055</td>\n",
       "      <td>&lt;http://publications.europa.eu/resource/author...</td>\n",
       "      <td>-10.851442</td>\n",
       "    </tr>\n",
       "    <tr>\n",
       "      <th>339</th>\n",
       "      <td>339</td>\n",
       "      <td>32015R0768^^&lt;http://www.w3.org/2001/XMLSchema#...</td>\n",
       "      <td>-10.881003</td>\n",
       "    </tr>\n",
       "    <tr>\n",
       "      <th>1306</th>\n",
       "      <td>1306</td>\n",
       "      <td>&lt;http://publications.europa.eu/resource/cellar...</td>\n",
       "      <td>-10.961142</td>\n",
       "    </tr>\n",
       "  </tbody>\n",
       "</table>\n",
       "<p>1613 rows × 3 columns</p>\n",
       "</div>"
      ],
      "text/plain": [
       "      tail_id                                         tail_label      score\n",
       "588       588                    <http://eurovoc.europa.eu/5589>  -6.211856\n",
       "553       553                    <http://eurovoc.europa.eu/4360>  -6.340346\n",
       "572       572                    <http://eurovoc.europa.eu/5043>  -6.341881\n",
       "1125     1125  <http://publications.europa.eu/resource/cellar...  -6.392386\n",
       "1560     1560  ep:P7_QE(2010)4660^^<http://www.w3.org/2001/XM...  -6.751966\n",
       "...       ...                                                ...        ...\n",
       "274       274  2021-07-05T17:15:21.179+02:00^^<http://www.w3.... -10.841079\n",
       "101       101  1996-10-02^^<http://www.w3.org/2001/XMLSchema#... -10.842767\n",
       "1055     1055  <http://publications.europa.eu/resource/author... -10.851442\n",
       "339       339  32015R0768^^<http://www.w3.org/2001/XMLSchema#... -10.881003\n",
       "1306     1306  <http://publications.europa.eu/resource/cellar... -10.961142\n",
       "\n",
       "[1613 rows x 3 columns]"
      ]
     },
     "execution_count": 92,
     "metadata": {},
     "output_type": "execute_result"
    }
   ],
   "source": [
    "# training_triples_factory = result.training\n",
    "head_label=\"<http://publications.europa.eu/resource/cellar/059e98ea-049c-49e2-a348-6aaa5157136b>\"\n",
    "relation_label=\"<http://publications.europa.eu/ontology/cdm#work_is_about_concept_eurovoc>\"\n",
    "df = predict_eurovoc(head_label, relation_label,training,model)\n",
    "df"
   ]
  },
  {
   "cell_type": "code",
   "execution_count": null,
   "metadata": {},
   "outputs": [],
   "source": [
    "df.head(20)"
   ]
  },
  {
   "cell_type": "code",
   "execution_count": null,
   "metadata": {},
   "outputs": [],
   "source": [
    "pd.options.display.max_colwidth= 100\n",
    "pd.options.display.max_rows=  500\n",
    "\n",
    "df.head(500)"
   ]
  },
  {
   "cell_type": "code",
   "execution_count": null,
   "metadata": {},
   "outputs": [],
   "source": [
    "evaluator = RankBasedEvaluator()\n",
    "\n",
    "# Get triples to test\n",
    "mapped_triples = testing.mapped_triples\n",
    "\n",
    "\n",
    "# Evaluate\n",
    "results = evaluator.evaluate(\n",
    "    model=model,\n",
    "    mapped_triples=mapped_triples,\n",
    "    batch_size=1024,\n",
    "    additional_filter_triples=[\n",
    "        training.mapped_triples,\n",
    "        dataset.validation.mapped_triples,\n",
    "    ],\n",
    ")\n",
    "\n",
    "\n",
    "model = Complex()\n",
    "\n",
    "# Evaluate\n",
    "results = evaluator.evaluate(\n",
    "    model=model,\n",
    "    mapped_triples=mapped_triples,\n",
    "    batch_size=1024,\n",
    "    additional_filter_triples=[\n",
    "        training.mapped_triples,\n",
    "        validation.mapped_triples,\n",
    "    ],\n",
    ")\n",
    "print(results)\n"
   ]
  },
  {
   "cell_type": "code",
   "execution_count": null,
   "metadata": {},
   "outputs": [],
   "source": [
    "pykeen.env()"
   ]
  },
  {
   "cell_type": "code",
   "execution_count": null,
   "metadata": {},
   "outputs": [],
   "source": []
  },
  {
   "cell_type": "code",
   "execution_count": null,
   "metadata": {},
   "outputs": [],
   "source": [
    "os.makedirs('results', exist_ok=True)\n",
    "\n",
    "triples = '''\n",
    "Brussels\tlocatedIn\tBelgium\n",
    "Belgium\tpartOf\tEU\n",
    "EU\thasCapital\tBrussels\n",
    "'''.strip()\n",
    "\n",
    "triples = np.array([triple.split('\\t') for triple in triples.split('\\n')])\n",
    "tf = TriplesFactory.from_labeled_triples(triples=triples)"
   ]
  },
  {
   "cell_type": "code",
   "execution_count": null,
   "metadata": {},
   "outputs": [],
   "source": [
    "results = pipeline(\n",
    "    training=tf,\n",
    "    testing=tf,\n",
    "    model = 'TransE',\n",
    "    model_kwargs=dict(embedding_dim=2),\n",
    "    training_kwargs=dict(use_tqdm_batch=False),\n",
    "    evaluation_kwargs=dict(use_tqdm=False),\n",
    "\n",
    ")\n",
    "results.plot(er_kwargs=dict(plot_relations=True))\n",
    "plt.savefig('results/toy_1.png', dpi=300)"
   ]
  },
  {
   "cell_type": "code",
   "execution_count": null,
   "metadata": {},
   "outputs": [],
   "source": [
    "results = pipeline(\n",
    "    training=tf,\n",
    "    testing=tf,\n",
    "    model = 'TransE',\n",
    "    model_kwargs=dict(embedding_dim=2),\n",
    "    optimizer_kwargs=dict(lr=1.0e-1),\n",
    "    training_kwargs=dict(num_epochs=128, use_tqdm_batch=False),\n",
    "    evaluation_kwargs=dict(use_tqdm=False),\n",
    " \n",
    ")\n",
    "results.plot(er_kwargs=dict(plot_relations=True))\n",
    "plt.savefig('results/toy_2.png', dpi=300)"
   ]
  },
  {
   "cell_type": "code",
   "execution_count": null,
   "metadata": {},
   "outputs": [],
   "source": [
    "toy_results = pipeline(\n",
    "    training=tf,\n",
    "    testing=tf,\n",
    "    model='TransE',\n",
    "    loss='softplus',\n",
    "    model_kwargs=dict(embedding_dim=2),\n",
    "    optimizer_kwargs=dict(lr=1.0e-1),\n",
    "    training_kwargs=dict(num_epochs=128, use_tqdm_batch=True),\n",
    "    evaluation_kwargs=dict(use_tqdm=True),\n",
    "    random_seed=2501062933,\n",
    "\n",
    ")"
   ]
  },
  {
   "cell_type": "code",
   "execution_count": null,
   "metadata": {},
   "outputs": [],
   "source": [
    "toy_results.plot(er_kwargs=dict(plot_relations=True))\n",
    "plt.savefig('results/toy_3.png', dpi=300)"
   ]
  },
  {
   "cell_type": "code",
   "execution_count": null,
   "metadata": {},
   "outputs": [],
   "source": [
    "nations_results = pipeline(\n",
    "    dataset='Nations',\n",
    "    model='TransE',\n",
    "    model_kwargs=dict(embedding_dim=8),\n",
    "    optimizer_kwargs=dict(lr=1.0e-1),\n",
    "    training_kwargs=dict(num_epochs=80, use_tqdm_batch=False),\n",
    "    evaluation_kwargs=dict(use_tqdm=False),\n",
    "   \n",
    ")"
   ]
  },
  {
   "cell_type": "code",
   "execution_count": null,
   "metadata": {},
   "outputs": [],
   "source": [
    "nations_results.plot(er_kwargs=dict(plot_relations=True))\n"
   ]
  },
  {
   "cell_type": "code",
   "execution_count": null,
   "metadata": {},
   "outputs": [],
   "source": [
    "# Filter the ER plot down to a specific set of entities and relations\n",
    "nations_results.plot_er(\n",
    "    relations={'treaties'},\n",
    "    apply_limits=False,\n",
    "    plot_relations=True,\n",
    ");"
   ]
  },
  {
   "cell_type": "code",
   "execution_count": null,
   "metadata": {},
   "outputs": [],
   "source": [
    "nations_results.metric_results.to_df()\n"
   ]
  },
  {
   "cell_type": "code",
   "execution_count": null,
   "metadata": {},
   "outputs": [],
   "source": [
    "tf = nations_results.training\n",
    "tf"
   ]
  },
  {
   "cell_type": "code",
   "execution_count": null,
   "metadata": {},
   "outputs": [],
   "source": [
    "tf.entity_word_cloud()\n"
   ]
  }
 ],
 "metadata": {
  "interpreter": {
   "hash": "31f2aee4e71d21fbe5cf8b01ff0e069b9275f58929596ceb00d14d90e3e16cd6"
  },
  "kernelspec": {
   "display_name": "Python 3.10.4 64-bit",
   "language": "python",
   "name": "python3"
  },
  "language_info": {
   "codemirror_mode": {
    "name": "ipython",
    "version": 3
   },
   "file_extension": ".py",
   "mimetype": "text/x-python",
   "name": "python",
   "nbconvert_exporter": "python",
   "pygments_lexer": "ipython3",
   "version": "3.10.4"
  }
 },
 "nbformat": 4,
 "nbformat_minor": 2
}
